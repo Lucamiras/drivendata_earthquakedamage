{
 "cells": [
  {
   "cell_type": "markdown",
   "metadata": {},
   "source": [
    "## 1. Import packages"
   ]
  },
  {
   "cell_type": "code",
   "execution_count": 21,
   "metadata": {},
   "outputs": [],
   "source": [
    "import pandas as pd\n",
    "import numpy as np\n",
    "import matplotlib.pyplot as plt\n",
    "from src.encode_features import encode_features\n",
    "from src.load_data import load_data\n",
    "from src.cross_validate import compare_estimators\n",
    "from sklearn.model_selection import cross_validate, cross_val_score\n",
    "from sklearn.model_selection import GridSearchCV\n",
    "from sklearn.linear_model import LogisticRegression\n",
    "from sklearn.tree import DecisionTreeClassifier\n",
    "from sklearn.ensemble import RandomForestClassifier, GradientBoostingClassifier, AdaBoostClassifier\n",
    "from sklearn.svm import SVC"
   ]
  },
  {
   "cell_type": "code",
   "execution_count": 22,
   "metadata": {},
   "outputs": [
    {
     "data": {
      "text/plain": [
       "'2.1.4'"
      ]
     },
     "execution_count": 22,
     "metadata": {},
     "output_type": "execute_result"
    }
   ],
   "source": [
    "pd.__version__"
   ]
  },
  {
   "cell_type": "markdown",
   "metadata": {},
   "source": [
    "## 2. Load data"
   ]
  },
  {
   "cell_type": "code",
   "execution_count": 23,
   "metadata": {},
   "outputs": [],
   "source": [
    "train_values, train_labels, test_values = load_data()"
   ]
  },
  {
   "cell_type": "code",
   "execution_count": 24,
   "metadata": {},
   "outputs": [
    {
     "data": {
      "text/html": [
       "<div>\n",
       "<style scoped>\n",
       "    .dataframe tbody tr th:only-of-type {\n",
       "        vertical-align: middle;\n",
       "    }\n",
       "\n",
       "    .dataframe tbody tr th {\n",
       "        vertical-align: top;\n",
       "    }\n",
       "\n",
       "    .dataframe thead th {\n",
       "        text-align: right;\n",
       "    }\n",
       "</style>\n",
       "<table border=\"1\" class=\"dataframe\">\n",
       "  <thead>\n",
       "    <tr style=\"text-align: right;\">\n",
       "      <th></th>\n",
       "      <th>building_id</th>\n",
       "      <th>geo_level_1_id</th>\n",
       "      <th>geo_level_2_id</th>\n",
       "      <th>geo_level_3_id</th>\n",
       "      <th>count_floors_pre_eq</th>\n",
       "      <th>age</th>\n",
       "      <th>area_percentage</th>\n",
       "      <th>height_percentage</th>\n",
       "      <th>land_surface_condition</th>\n",
       "      <th>foundation_type</th>\n",
       "      <th>...</th>\n",
       "      <th>has_secondary_use_agriculture</th>\n",
       "      <th>has_secondary_use_hotel</th>\n",
       "      <th>has_secondary_use_rental</th>\n",
       "      <th>has_secondary_use_institution</th>\n",
       "      <th>has_secondary_use_school</th>\n",
       "      <th>has_secondary_use_industry</th>\n",
       "      <th>has_secondary_use_health_post</th>\n",
       "      <th>has_secondary_use_gov_office</th>\n",
       "      <th>has_secondary_use_use_police</th>\n",
       "      <th>has_secondary_use_other</th>\n",
       "    </tr>\n",
       "  </thead>\n",
       "  <tbody>\n",
       "    <tr>\n",
       "      <th>0</th>\n",
       "      <td>802906</td>\n",
       "      <td>6</td>\n",
       "      <td>487</td>\n",
       "      <td>12198</td>\n",
       "      <td>2</td>\n",
       "      <td>30</td>\n",
       "      <td>6</td>\n",
       "      <td>5</td>\n",
       "      <td>t</td>\n",
       "      <td>r</td>\n",
       "      <td>...</td>\n",
       "      <td>0</td>\n",
       "      <td>0</td>\n",
       "      <td>0</td>\n",
       "      <td>0</td>\n",
       "      <td>0</td>\n",
       "      <td>0</td>\n",
       "      <td>0</td>\n",
       "      <td>0</td>\n",
       "      <td>0</td>\n",
       "      <td>0</td>\n",
       "    </tr>\n",
       "    <tr>\n",
       "      <th>1</th>\n",
       "      <td>28830</td>\n",
       "      <td>8</td>\n",
       "      <td>900</td>\n",
       "      <td>2812</td>\n",
       "      <td>2</td>\n",
       "      <td>10</td>\n",
       "      <td>8</td>\n",
       "      <td>7</td>\n",
       "      <td>o</td>\n",
       "      <td>r</td>\n",
       "      <td>...</td>\n",
       "      <td>0</td>\n",
       "      <td>0</td>\n",
       "      <td>0</td>\n",
       "      <td>0</td>\n",
       "      <td>0</td>\n",
       "      <td>0</td>\n",
       "      <td>0</td>\n",
       "      <td>0</td>\n",
       "      <td>0</td>\n",
       "      <td>0</td>\n",
       "    </tr>\n",
       "    <tr>\n",
       "      <th>2</th>\n",
       "      <td>94947</td>\n",
       "      <td>21</td>\n",
       "      <td>363</td>\n",
       "      <td>8973</td>\n",
       "      <td>2</td>\n",
       "      <td>10</td>\n",
       "      <td>5</td>\n",
       "      <td>5</td>\n",
       "      <td>t</td>\n",
       "      <td>r</td>\n",
       "      <td>...</td>\n",
       "      <td>0</td>\n",
       "      <td>0</td>\n",
       "      <td>0</td>\n",
       "      <td>0</td>\n",
       "      <td>0</td>\n",
       "      <td>0</td>\n",
       "      <td>0</td>\n",
       "      <td>0</td>\n",
       "      <td>0</td>\n",
       "      <td>0</td>\n",
       "    </tr>\n",
       "    <tr>\n",
       "      <th>3</th>\n",
       "      <td>590882</td>\n",
       "      <td>22</td>\n",
       "      <td>418</td>\n",
       "      <td>10694</td>\n",
       "      <td>2</td>\n",
       "      <td>10</td>\n",
       "      <td>6</td>\n",
       "      <td>5</td>\n",
       "      <td>t</td>\n",
       "      <td>r</td>\n",
       "      <td>...</td>\n",
       "      <td>0</td>\n",
       "      <td>0</td>\n",
       "      <td>0</td>\n",
       "      <td>0</td>\n",
       "      <td>0</td>\n",
       "      <td>0</td>\n",
       "      <td>0</td>\n",
       "      <td>0</td>\n",
       "      <td>0</td>\n",
       "      <td>0</td>\n",
       "    </tr>\n",
       "    <tr>\n",
       "      <th>4</th>\n",
       "      <td>201944</td>\n",
       "      <td>11</td>\n",
       "      <td>131</td>\n",
       "      <td>1488</td>\n",
       "      <td>3</td>\n",
       "      <td>30</td>\n",
       "      <td>8</td>\n",
       "      <td>9</td>\n",
       "      <td>t</td>\n",
       "      <td>r</td>\n",
       "      <td>...</td>\n",
       "      <td>0</td>\n",
       "      <td>0</td>\n",
       "      <td>0</td>\n",
       "      <td>0</td>\n",
       "      <td>0</td>\n",
       "      <td>0</td>\n",
       "      <td>0</td>\n",
       "      <td>0</td>\n",
       "      <td>0</td>\n",
       "      <td>0</td>\n",
       "    </tr>\n",
       "  </tbody>\n",
       "</table>\n",
       "<p>5 rows × 39 columns</p>\n",
       "</div>"
      ],
      "text/plain": [
       "   building_id  geo_level_1_id  geo_level_2_id  geo_level_3_id  \\\n",
       "0       802906               6             487           12198   \n",
       "1        28830               8             900            2812   \n",
       "2        94947              21             363            8973   \n",
       "3       590882              22             418           10694   \n",
       "4       201944              11             131            1488   \n",
       "\n",
       "   count_floors_pre_eq  age  area_percentage  height_percentage  \\\n",
       "0                    2   30                6                  5   \n",
       "1                    2   10                8                  7   \n",
       "2                    2   10                5                  5   \n",
       "3                    2   10                6                  5   \n",
       "4                    3   30                8                  9   \n",
       "\n",
       "  land_surface_condition foundation_type  ... has_secondary_use_agriculture  \\\n",
       "0                      t               r  ...                             0   \n",
       "1                      o               r  ...                             0   \n",
       "2                      t               r  ...                             0   \n",
       "3                      t               r  ...                             0   \n",
       "4                      t               r  ...                             0   \n",
       "\n",
       "  has_secondary_use_hotel has_secondary_use_rental  \\\n",
       "0                       0                        0   \n",
       "1                       0                        0   \n",
       "2                       0                        0   \n",
       "3                       0                        0   \n",
       "4                       0                        0   \n",
       "\n",
       "  has_secondary_use_institution has_secondary_use_school  \\\n",
       "0                             0                        0   \n",
       "1                             0                        0   \n",
       "2                             0                        0   \n",
       "3                             0                        0   \n",
       "4                             0                        0   \n",
       "\n",
       "   has_secondary_use_industry  has_secondary_use_health_post  \\\n",
       "0                           0                              0   \n",
       "1                           0                              0   \n",
       "2                           0                              0   \n",
       "3                           0                              0   \n",
       "4                           0                              0   \n",
       "\n",
       "   has_secondary_use_gov_office  has_secondary_use_use_police  \\\n",
       "0                             0                             0   \n",
       "1                             0                             0   \n",
       "2                             0                             0   \n",
       "3                             0                             0   \n",
       "4                             0                             0   \n",
       "\n",
       "   has_secondary_use_other  \n",
       "0                        0  \n",
       "1                        0  \n",
       "2                        0  \n",
       "3                        0  \n",
       "4                        0  \n",
       "\n",
       "[5 rows x 39 columns]"
      ]
     },
     "execution_count": 24,
     "metadata": {},
     "output_type": "execute_result"
    }
   ],
   "source": [
    "train_values.head()"
   ]
  },
  {
   "cell_type": "markdown",
   "metadata": {},
   "source": [
    "## 3. Features"
   ]
  },
  {
   "cell_type": "markdown",
   "metadata": {
    "vscode": {
     "languageId": "plaintext"
    }
   },
   "source": [
    "### 3.1 Impute missing values\n",
    "Not necessary"
   ]
  },
  {
   "cell_type": "markdown",
   "metadata": {},
   "source": [
    "### 3.2 Create new features\n",
    "Not necessary"
   ]
  },
  {
   "cell_type": "markdown",
   "metadata": {},
   "source": [
    "### 3.3 Encoding"
   ]
  },
  {
   "cell_type": "code",
   "execution_count": 25,
   "metadata": {},
   "outputs": [],
   "source": [
    "train_values_encoded = encode_features(df=train_values)"
   ]
  },
  {
   "cell_type": "markdown",
   "metadata": {},
   "source": [
    "### 3.4 Remove outliers\n",
    "Tried it, then went back when it didn't make a difference"
   ]
  },
  {
   "cell_type": "markdown",
   "metadata": {},
   "source": [
    "### 3.5 Class imbalance"
   ]
  },
  {
   "cell_type": "code",
   "execution_count": 26,
   "metadata": {},
   "outputs": [],
   "source": [
    "# implemented stratifiedkfold"
   ]
  },
  {
   "cell_type": "markdown",
   "metadata": {},
   "source": [
    "## 4. Cross validate across multiple models"
   ]
  },
  {
   "cell_type": "code",
   "execution_count": 27,
   "metadata": {},
   "outputs": [],
   "source": [
    "y = train_labels['damage_grade']\n",
    "X = train_values_encoded.copy()"
   ]
  },
  {
   "cell_type": "code",
   "execution_count": 28,
   "metadata": {},
   "outputs": [
    {
     "name": "stdout",
     "output_type": "stream",
     "text": [
      "(260601,)\n",
      "(260601, 69)\n"
     ]
    }
   ],
   "source": [
    "print(y.shape)\n",
    "print(X.shape)"
   ]
  },
  {
   "cell_type": "code",
   "execution_count": null,
   "metadata": {},
   "outputs": [
    {
     "name": "stdout",
     "output_type": "stream",
     "text": [
      "Logistic Regression: Accuracy: 0.57 (+/- 0.00)\n",
      "Decision Tree: Accuracy: 0.65 (+/- 0.01)\n",
      "Random Forest: Accuracy: 0.72 (+/- 0.00)\n"
     ]
    }
   ],
   "source": [
    "estimators = [\n",
    "    ('Logistic Regression', LogisticRegression()),\n",
    "    ('Decision Tree', DecisionTreeClassifier()),\n",
    "    ('Random Forest', RandomForestClassifier()),\n",
    "    ('Gradient Boosting Classifier', GradientBoostingClassifier()),\n",
    "    ('AdaBoost', AdaBoostClassifier()),\n",
    "]\n",
    "\n",
    "compare_estimators(estimators, X, y)"
   ]
  },
  {
   "cell_type": "markdown",
   "metadata": {},
   "source": [
    "## 5. Train the (best) model"
   ]
  },
  {
   "cell_type": "markdown",
   "metadata": {},
   "source": [
    "### 5.1. Improve the model with grid search"
   ]
  },
  {
   "cell_type": "code",
   "execution_count": 39,
   "metadata": {},
   "outputs": [
    {
     "name": "stdout",
     "output_type": "stream",
     "text": [
      "Fitting 3 folds for each of 36 candidates, totalling 108 fits\n",
      "[CV 1/3] END min_samples_leaf=1, min_samples_split=5, n_estimators=10;, score=0.694 total time=   0.7s\n",
      "[CV 2/3] END min_samples_leaf=1, min_samples_split=5, n_estimators=10;, score=0.698 total time=   0.7s\n",
      "[CV 3/3] END min_samples_leaf=1, min_samples_split=5, n_estimators=10;, score=0.695 total time=   0.8s\n",
      "[CV 1/3] END min_samples_leaf=1, min_samples_split=5, n_estimators=100;, score=0.717 total time=   5.4s\n",
      "[CV 2/3] END min_samples_leaf=1, min_samples_split=5, n_estimators=100;, score=0.719 total time=   5.4s\n",
      "[CV 3/3] END min_samples_leaf=1, min_samples_split=5, n_estimators=100;, score=0.719 total time=   6.4s\n",
      "[CV 1/3] END min_samples_leaf=1, min_samples_split=5, n_estimators=200;, score=0.717 total time=  10.7s\n",
      "[CV 2/3] END min_samples_leaf=1, min_samples_split=5, n_estimators=200;, score=0.720 total time=  10.6s\n",
      "[CV 3/3] END min_samples_leaf=1, min_samples_split=5, n_estimators=200;, score=0.719 total time=  12.5s\n",
      "[CV 1/3] END min_samples_leaf=1, min_samples_split=5, n_estimators=500;, score=0.718 total time=  26.4s\n",
      "[CV 2/3] END min_samples_leaf=1, min_samples_split=5, n_estimators=500;, score=0.721 total time=  27.0s\n",
      "[CV 3/3] END min_samples_leaf=1, min_samples_split=5, n_estimators=500;, score=0.721 total time=  31.0s\n",
      "[CV 1/3] END min_samples_leaf=1, min_samples_split=10, n_estimators=10;, score=0.700 total time=   0.7s\n",
      "[CV 2/3] END min_samples_leaf=1, min_samples_split=10, n_estimators=10;, score=0.701 total time=   0.6s\n",
      "[CV 3/3] END min_samples_leaf=1, min_samples_split=10, n_estimators=10;, score=0.698 total time=   0.7s\n",
      "[CV 1/3] END min_samples_leaf=1, min_samples_split=10, n_estimators=100;, score=0.717 total time=   5.2s\n",
      "[CV 2/3] END min_samples_leaf=1, min_samples_split=10, n_estimators=100;, score=0.719 total time=   5.1s\n",
      "[CV 3/3] END min_samples_leaf=1, min_samples_split=10, n_estimators=100;, score=0.719 total time=   6.1s\n",
      "[CV 1/3] END min_samples_leaf=1, min_samples_split=10, n_estimators=200;, score=0.718 total time=  10.1s\n",
      "[CV 2/3] END min_samples_leaf=1, min_samples_split=10, n_estimators=200;, score=0.719 total time=  10.1s\n",
      "[CV 3/3] END min_samples_leaf=1, min_samples_split=10, n_estimators=200;, score=0.720 total time=  11.7s\n",
      "[CV 1/3] END min_samples_leaf=1, min_samples_split=10, n_estimators=500;, score=0.719 total time=  24.8s\n",
      "[CV 2/3] END min_samples_leaf=1, min_samples_split=10, n_estimators=500;, score=0.721 total time=  25.4s\n",
      "[CV 3/3] END min_samples_leaf=1, min_samples_split=10, n_estimators=500;, score=0.721 total time=  29.6s\n",
      "[CV 1/3] END min_samples_leaf=1, min_samples_split=20, n_estimators=10;, score=0.700 total time=   0.6s\n",
      "[CV 2/3] END min_samples_leaf=1, min_samples_split=20, n_estimators=10;, score=0.701 total time=   0.6s\n",
      "[CV 3/3] END min_samples_leaf=1, min_samples_split=20, n_estimators=10;, score=0.698 total time=   0.7s\n",
      "[CV 1/3] END min_samples_leaf=1, min_samples_split=20, n_estimators=100;, score=0.714 total time=   4.9s\n",
      "[CV 2/3] END min_samples_leaf=1, min_samples_split=20, n_estimators=100;, score=0.717 total time=   4.9s\n",
      "[CV 3/3] END min_samples_leaf=1, min_samples_split=20, n_estimators=100;, score=0.717 total time=   5.8s\n",
      "[CV 1/3] END min_samples_leaf=1, min_samples_split=20, n_estimators=200;, score=0.714 total time=   9.6s\n",
      "[CV 2/3] END min_samples_leaf=1, min_samples_split=20, n_estimators=200;, score=0.717 total time=   9.6s\n",
      "[CV 3/3] END min_samples_leaf=1, min_samples_split=20, n_estimators=200;, score=0.719 total time=  11.4s\n",
      "[CV 1/3] END min_samples_leaf=1, min_samples_split=20, n_estimators=500;, score=0.716 total time=  23.8s\n",
      "[CV 2/3] END min_samples_leaf=1, min_samples_split=20, n_estimators=500;, score=0.718 total time=  23.8s\n",
      "[CV 3/3] END min_samples_leaf=1, min_samples_split=20, n_estimators=500;, score=0.718 total time=  28.2s\n",
      "[CV 1/3] END min_samples_leaf=2, min_samples_split=5, n_estimators=10;, score=0.695 total time=   0.7s\n",
      "[CV 2/3] END min_samples_leaf=2, min_samples_split=5, n_estimators=10;, score=0.699 total time=   0.7s\n",
      "[CV 3/3] END min_samples_leaf=2, min_samples_split=5, n_estimators=10;, score=0.699 total time=   0.7s\n",
      "[CV 1/3] END min_samples_leaf=2, min_samples_split=5, n_estimators=100;, score=0.712 total time=   4.9s\n",
      "[CV 2/3] END min_samples_leaf=2, min_samples_split=5, n_estimators=100;, score=0.715 total time=   5.0s\n",
      "[CV 3/3] END min_samples_leaf=2, min_samples_split=5, n_estimators=100;, score=0.715 total time=   6.1s\n",
      "[CV 1/3] END min_samples_leaf=2, min_samples_split=5, n_estimators=200;, score=0.714 total time=  10.2s\n",
      "[CV 2/3] END min_samples_leaf=2, min_samples_split=5, n_estimators=200;, score=0.716 total time=   9.8s\n",
      "[CV 3/3] END min_samples_leaf=2, min_samples_split=5, n_estimators=200;, score=0.717 total time=  11.5s\n",
      "[CV 1/3] END min_samples_leaf=2, min_samples_split=5, n_estimators=500;, score=0.715 total time=  24.2s\n",
      "[CV 2/3] END min_samples_leaf=2, min_samples_split=5, n_estimators=500;, score=0.718 total time=  24.1s\n",
      "[CV 3/3] END min_samples_leaf=2, min_samples_split=5, n_estimators=500;, score=0.718 total time=  28.6s\n",
      "[CV 1/3] END min_samples_leaf=2, min_samples_split=10, n_estimators=10;, score=0.700 total time=   0.6s\n",
      "[CV 2/3] END min_samples_leaf=2, min_samples_split=10, n_estimators=10;, score=0.698 total time=   0.6s\n",
      "[CV 3/3] END min_samples_leaf=2, min_samples_split=10, n_estimators=10;, score=0.697 total time=   0.7s\n",
      "[CV 1/3] END min_samples_leaf=2, min_samples_split=10, n_estimators=100;, score=0.711 total time=   4.9s\n",
      "[CV 2/3] END min_samples_leaf=2, min_samples_split=10, n_estimators=100;, score=0.714 total time=   4.8s\n",
      "[CV 3/3] END min_samples_leaf=2, min_samples_split=10, n_estimators=100;, score=0.715 total time=   5.8s\n",
      "[CV 1/3] END min_samples_leaf=2, min_samples_split=10, n_estimators=200;, score=0.713 total time=   9.4s\n",
      "[CV 2/3] END min_samples_leaf=2, min_samples_split=10, n_estimators=200;, score=0.717 total time=   9.3s\n",
      "[CV 3/3] END min_samples_leaf=2, min_samples_split=10, n_estimators=200;, score=0.716 total time=  11.2s\n",
      "[CV 1/3] END min_samples_leaf=2, min_samples_split=10, n_estimators=500;, score=0.713 total time=  23.5s\n",
      "[CV 2/3] END min_samples_leaf=2, min_samples_split=10, n_estimators=500;, score=0.716 total time=  23.6s\n",
      "[CV 3/3] END min_samples_leaf=2, min_samples_split=10, n_estimators=500;, score=0.716 total time=  29.0s\n",
      "[CV 1/3] END min_samples_leaf=2, min_samples_split=20, n_estimators=10;, score=0.700 total time=   0.7s\n",
      "[CV 2/3] END min_samples_leaf=2, min_samples_split=20, n_estimators=10;, score=0.695 total time=   0.6s\n",
      "[CV 3/3] END min_samples_leaf=2, min_samples_split=20, n_estimators=10;, score=0.699 total time=   0.7s\n",
      "[CV 1/3] END min_samples_leaf=2, min_samples_split=20, n_estimators=100;, score=0.708 total time=   4.7s\n",
      "[CV 2/3] END min_samples_leaf=2, min_samples_split=20, n_estimators=100;, score=0.712 total time=   4.7s\n",
      "[CV 3/3] END min_samples_leaf=2, min_samples_split=20, n_estimators=100;, score=0.711 total time=   5.5s\n",
      "[CV 1/3] END min_samples_leaf=2, min_samples_split=20, n_estimators=200;, score=0.710 total time=   9.3s\n",
      "[CV 2/3] END min_samples_leaf=2, min_samples_split=20, n_estimators=200;, score=0.712 total time=   9.2s\n",
      "[CV 3/3] END min_samples_leaf=2, min_samples_split=20, n_estimators=200;, score=0.713 total time=  11.0s\n",
      "[CV 1/3] END min_samples_leaf=2, min_samples_split=20, n_estimators=500;, score=0.711 total time=  22.8s\n",
      "[CV 2/3] END min_samples_leaf=2, min_samples_split=20, n_estimators=500;, score=0.713 total time=  23.1s\n",
      "[CV 3/3] END min_samples_leaf=2, min_samples_split=20, n_estimators=500;, score=0.714 total time=  27.1s\n",
      "[CV 1/3] END min_samples_leaf=4, min_samples_split=5, n_estimators=10;, score=0.695 total time=   0.6s\n",
      "[CV 2/3] END min_samples_leaf=4, min_samples_split=5, n_estimators=10;, score=0.697 total time=   0.5s\n",
      "[CV 3/3] END min_samples_leaf=4, min_samples_split=5, n_estimators=10;, score=0.698 total time=   0.7s\n",
      "[CV 1/3] END min_samples_leaf=4, min_samples_split=5, n_estimators=100;, score=0.705 total time=   4.7s\n",
      "[CV 2/3] END min_samples_leaf=4, min_samples_split=5, n_estimators=100;, score=0.709 total time=   4.5s\n",
      "[CV 3/3] END min_samples_leaf=4, min_samples_split=5, n_estimators=100;, score=0.709 total time=   5.6s\n",
      "[CV 1/3] END min_samples_leaf=4, min_samples_split=5, n_estimators=200;, score=0.706 total time=   9.1s\n",
      "[CV 2/3] END min_samples_leaf=4, min_samples_split=5, n_estimators=200;, score=0.710 total time=   9.0s\n",
      "[CV 3/3] END min_samples_leaf=4, min_samples_split=5, n_estimators=200;, score=0.710 total time=  10.8s\n",
      "[CV 1/3] END min_samples_leaf=4, min_samples_split=5, n_estimators=500;, score=0.708 total time=  22.2s\n",
      "[CV 2/3] END min_samples_leaf=4, min_samples_split=5, n_estimators=500;, score=0.709 total time=  22.0s\n",
      "[CV 3/3] END min_samples_leaf=4, min_samples_split=5, n_estimators=500;, score=0.710 total time=  26.4s\n",
      "[CV 1/3] END min_samples_leaf=4, min_samples_split=10, n_estimators=10;, score=0.694 total time=   0.6s\n",
      "[CV 2/3] END min_samples_leaf=4, min_samples_split=10, n_estimators=10;, score=0.699 total time=   0.6s\n",
      "[CV 3/3] END min_samples_leaf=4, min_samples_split=10, n_estimators=10;, score=0.695 total time=   0.7s\n",
      "[CV 1/3] END min_samples_leaf=4, min_samples_split=10, n_estimators=100;, score=0.705 total time=   4.6s\n",
      "[CV 2/3] END min_samples_leaf=4, min_samples_split=10, n_estimators=100;, score=0.708 total time=   4.5s\n",
      "[CV 3/3] END min_samples_leaf=4, min_samples_split=10, n_estimators=100;, score=0.709 total time=   5.4s\n",
      "[CV 1/3] END min_samples_leaf=4, min_samples_split=10, n_estimators=200;, score=0.706 total time=   9.1s\n",
      "[CV 2/3] END min_samples_leaf=4, min_samples_split=10, n_estimators=200;, score=0.710 total time=   8.9s\n",
      "[CV 3/3] END min_samples_leaf=4, min_samples_split=10, n_estimators=200;, score=0.710 total time=  10.7s\n",
      "[CV 1/3] END min_samples_leaf=4, min_samples_split=10, n_estimators=500;, score=0.706 total time=  22.1s\n",
      "[CV 2/3] END min_samples_leaf=4, min_samples_split=10, n_estimators=500;, score=0.710 total time=  21.6s\n",
      "[CV 3/3] END min_samples_leaf=4, min_samples_split=10, n_estimators=500;, score=0.709 total time=  25.9s\n",
      "[CV 1/3] END min_samples_leaf=4, min_samples_split=20, n_estimators=10;, score=0.693 total time=   0.6s\n",
      "[CV 2/3] END min_samples_leaf=4, min_samples_split=20, n_estimators=10;, score=0.698 total time=   0.6s\n",
      "[CV 3/3] END min_samples_leaf=4, min_samples_split=20, n_estimators=10;, score=0.693 total time=   0.7s\n",
      "[CV 1/3] END min_samples_leaf=4, min_samples_split=20, n_estimators=100;, score=0.703 total time=   4.4s\n",
      "[CV 2/3] END min_samples_leaf=4, min_samples_split=20, n_estimators=100;, score=0.706 total time=   4.4s\n",
      "[CV 3/3] END min_samples_leaf=4, min_samples_split=20, n_estimators=100;, score=0.706 total time=   5.4s\n",
      "[CV 1/3] END min_samples_leaf=4, min_samples_split=20, n_estimators=200;, score=0.703 total time=   8.7s\n",
      "[CV 2/3] END min_samples_leaf=4, min_samples_split=20, n_estimators=200;, score=0.707 total time=   8.7s\n",
      "[CV 3/3] END min_samples_leaf=4, min_samples_split=20, n_estimators=200;, score=0.706 total time=  10.8s\n",
      "[CV 1/3] END min_samples_leaf=4, min_samples_split=20, n_estimators=500;, score=0.704 total time=  20.6s\n",
      "[CV 2/3] END min_samples_leaf=4, min_samples_split=20, n_estimators=500;, score=0.707 total time=  20.6s\n",
      "[CV 3/3] END min_samples_leaf=4, min_samples_split=20, n_estimators=500;, score=0.708 total time=  24.7s\n",
      "Best Parameters: {'min_samples_leaf': 1, 'min_samples_split': 10, 'n_estimators': 500}\n",
      "Best Mean Cross-validated Score: 0.7200624709805412\n"
     ]
    },
    {
     "ename": "AttributeError",
     "evalue": "'GridSearchCV' object has no attribute 'best_params'",
     "output_type": "error",
     "traceback": [
      "\u001b[0;31m---------------------------------------------------------------------------\u001b[0m",
      "\u001b[0;31mAttributeError\u001b[0m                            Traceback (most recent call last)",
      "Cell \u001b[0;32mIn[39], line 25\u001b[0m\n\u001b[1;32m     23\u001b[0m \u001b[38;5;28mprint\u001b[39m(\u001b[38;5;124m\"\u001b[39m\u001b[38;5;124mBest Mean Cross-validated Score:\u001b[39m\u001b[38;5;124m\"\u001b[39m, grid_search\u001b[38;5;241m.\u001b[39mbest_score_)\n\u001b[1;32m     24\u001b[0m \u001b[38;5;28;01mwith\u001b[39;00m \u001b[38;5;28mopen\u001b[39m(\u001b[38;5;124m'\u001b[39m\u001b[38;5;124mlogs/logs.txt\u001b[39m\u001b[38;5;124m'\u001b[39m,\u001b[38;5;124m'\u001b[39m\u001b[38;5;124mr\u001b[39m\u001b[38;5;124m'\u001b[39m) \u001b[38;5;28;01mas\u001b[39;00m r:\n\u001b[0;32m---> 25\u001b[0m     r\u001b[38;5;241m.\u001b[39mwrite(\u001b[38;5;124m\"\u001b[39m\u001b[38;5;124mBest Parameters:\u001b[39m\u001b[38;5;124m\"\u001b[39m, grid_search\u001b[38;5;241m.\u001b[39mbest_params, \u001b[38;5;124m'\u001b[39m\u001b[38;5;130;01m\\n\u001b[39;00m\u001b[38;5;124m'\u001b[39m, \u001b[38;5;124m\"\u001b[39m\u001b[38;5;124mBest Mean Cross-validated Score:\u001b[39m\u001b[38;5;124m\"\u001b[39m, grid_search\u001b[38;5;241m.\u001b[39mbest_score_)\n",
      "\u001b[0;31mAttributeError\u001b[0m: 'GridSearchCV' object has no attribute 'best_params'"
     ]
    }
   ],
   "source": [
    "# Define parameters grid for Random Forest\n",
    "param_grid = {\n",
    "    #'criterion':[\"gini\", \"entropy\", \"log_loss\"],\n",
    "    'min_samples_split': [5, 10, 20],\n",
    "    'min_samples_leaf': [1, 2, 4],\n",
    "    'n_estimators': [10, 100, 200, 500],\n",
    "    #'max_depth': [None, 10, 20] Bad results\n",
    "}\n",
    "\n",
    "# Initialize Random Forest classifier\n",
    "rf_classifier = RandomForestClassifier(n_jobs=20)\n",
    "\n",
    "# Initialize Grid Search with 5-fold cross-validation\n",
    "grid_search = GridSearchCV(rf_classifier, param_grid, cv=3, scoring='f1_micro', verbose=3)\n",
    "\n",
    "# Fit the grid search to the data\n",
    "grid_search.fit(X, y)\n",
    "\n",
    "# Print the best parameters found\n",
    "print(\"Best Parameters:\", grid_search.best_params_)\n",
    "\n",
    "# Print the best mean cross-validated score found\n",
    "print(\"Best Mean Cross-validated Score:\", grid_search.best_score_)\n",
    "\n",
    "with open('logs/logs.txt','w') as f:\n",
    "    f.write(f\"Best Parameters: {grid_search.best_params_}, \\nBest Mean Cross-validated Score: {grid_search.best_score_}\")"
   ]
  },
  {
   "cell_type": "code",
   "execution_count": 11,
   "metadata": {},
   "outputs": [
    {
     "data": {
      "text/html": [
       "<style>#sk-container-id-1 {color: black;}#sk-container-id-1 pre{padding: 0;}#sk-container-id-1 div.sk-toggleable {background-color: white;}#sk-container-id-1 label.sk-toggleable__label {cursor: pointer;display: block;width: 100%;margin-bottom: 0;padding: 0.3em;box-sizing: border-box;text-align: center;}#sk-container-id-1 label.sk-toggleable__label-arrow:before {content: \"▸\";float: left;margin-right: 0.25em;color: #696969;}#sk-container-id-1 label.sk-toggleable__label-arrow:hover:before {color: black;}#sk-container-id-1 div.sk-estimator:hover label.sk-toggleable__label-arrow:before {color: black;}#sk-container-id-1 div.sk-toggleable__content {max-height: 0;max-width: 0;overflow: hidden;text-align: left;background-color: #f0f8ff;}#sk-container-id-1 div.sk-toggleable__content pre {margin: 0.2em;color: black;border-radius: 0.25em;background-color: #f0f8ff;}#sk-container-id-1 input.sk-toggleable__control:checked~div.sk-toggleable__content {max-height: 200px;max-width: 100%;overflow: auto;}#sk-container-id-1 input.sk-toggleable__control:checked~label.sk-toggleable__label-arrow:before {content: \"▾\";}#sk-container-id-1 div.sk-estimator input.sk-toggleable__control:checked~label.sk-toggleable__label {background-color: #d4ebff;}#sk-container-id-1 div.sk-label input.sk-toggleable__control:checked~label.sk-toggleable__label {background-color: #d4ebff;}#sk-container-id-1 input.sk-hidden--visually {border: 0;clip: rect(1px 1px 1px 1px);clip: rect(1px, 1px, 1px, 1px);height: 1px;margin: -1px;overflow: hidden;padding: 0;position: absolute;width: 1px;}#sk-container-id-1 div.sk-estimator {font-family: monospace;background-color: #f0f8ff;border: 1px dotted black;border-radius: 0.25em;box-sizing: border-box;margin-bottom: 0.5em;}#sk-container-id-1 div.sk-estimator:hover {background-color: #d4ebff;}#sk-container-id-1 div.sk-parallel-item::after {content: \"\";width: 100%;border-bottom: 1px solid gray;flex-grow: 1;}#sk-container-id-1 div.sk-label:hover label.sk-toggleable__label {background-color: #d4ebff;}#sk-container-id-1 div.sk-serial::before {content: \"\";position: absolute;border-left: 1px solid gray;box-sizing: border-box;top: 0;bottom: 0;left: 50%;z-index: 0;}#sk-container-id-1 div.sk-serial {display: flex;flex-direction: column;align-items: center;background-color: white;padding-right: 0.2em;padding-left: 0.2em;position: relative;}#sk-container-id-1 div.sk-item {position: relative;z-index: 1;}#sk-container-id-1 div.sk-parallel {display: flex;align-items: stretch;justify-content: center;background-color: white;position: relative;}#sk-container-id-1 div.sk-item::before, #sk-container-id-1 div.sk-parallel-item::before {content: \"\";position: absolute;border-left: 1px solid gray;box-sizing: border-box;top: 0;bottom: 0;left: 50%;z-index: -1;}#sk-container-id-1 div.sk-parallel-item {display: flex;flex-direction: column;z-index: 1;position: relative;background-color: white;}#sk-container-id-1 div.sk-parallel-item:first-child::after {align-self: flex-end;width: 50%;}#sk-container-id-1 div.sk-parallel-item:last-child::after {align-self: flex-start;width: 50%;}#sk-container-id-1 div.sk-parallel-item:only-child::after {width: 0;}#sk-container-id-1 div.sk-dashed-wrapped {border: 1px dashed gray;margin: 0 0.4em 0.5em 0.4em;box-sizing: border-box;padding-bottom: 0.4em;background-color: white;}#sk-container-id-1 div.sk-label label {font-family: monospace;font-weight: bold;display: inline-block;line-height: 1.2em;}#sk-container-id-1 div.sk-label-container {text-align: center;}#sk-container-id-1 div.sk-container {/* jupyter's `normalize.less` sets `[hidden] { display: none; }` but bootstrap.min.css set `[hidden] { display: none !important; }` so we also need the `!important` here to be able to override the default hidden behavior on the sphinx rendered scikit-learn.org. See: https://github.com/scikit-learn/scikit-learn/issues/21755 */display: inline-block !important;position: relative;}#sk-container-id-1 div.sk-text-repr-fallback {display: none;}</style><div id=\"sk-container-id-1\" class=\"sk-top-container\"><div class=\"sk-text-repr-fallback\"><pre>RandomForestClassifier(min_samples_split=10, n_estimators=500, n_jobs=20)</pre><b>In a Jupyter environment, please rerun this cell to show the HTML representation or trust the notebook. <br />On GitHub, the HTML representation is unable to render, please try loading this page with nbviewer.org.</b></div><div class=\"sk-container\" hidden><div class=\"sk-item\"><div class=\"sk-estimator sk-toggleable\"><input class=\"sk-toggleable__control sk-hidden--visually\" id=\"sk-estimator-id-1\" type=\"checkbox\" checked><label for=\"sk-estimator-id-1\" class=\"sk-toggleable__label sk-toggleable__label-arrow\">RandomForestClassifier</label><div class=\"sk-toggleable__content\"><pre>RandomForestClassifier(min_samples_split=10, n_estimators=500, n_jobs=20)</pre></div></div></div></div></div>"
      ],
      "text/plain": [
       "RandomForestClassifier(min_samples_split=10, n_estimators=500, n_jobs=20)"
      ]
     },
     "execution_count": 11,
     "metadata": {},
     "output_type": "execute_result"
    }
   ],
   "source": [
    "forest = RandomForestClassifier(\n",
    "    min_samples_leaf=1, min_samples_split=10, n_estimators=500, n_jobs=20\n",
    ")\n",
    "forest.fit(X,y)"
   ]
  },
  {
   "cell_type": "markdown",
   "metadata": {},
   "source": [
    "## 6. Prepare test data\n",
    "Because the test data is stil in the original form"
   ]
  },
  {
   "cell_type": "code",
   "execution_count": 12,
   "metadata": {},
   "outputs": [],
   "source": [
    "test_values_encoded = encode_features(test_values)"
   ]
  },
  {
   "cell_type": "markdown",
   "metadata": {},
   "source": [
    "## 7. Make Predictions"
   ]
  },
  {
   "cell_type": "code",
   "execution_count": 13,
   "metadata": {},
   "outputs": [],
   "source": [
    "test_labels_prediction = forest.predict(test_values_encoded)"
   ]
  },
  {
   "cell_type": "code",
   "execution_count": null,
   "metadata": {},
   "outputs": [],
   "source": [
    "submission = pd.DataFrame()\n",
    "submission['building_id'] = test_values.building_id\n",
    "submission['damage_grade'] = test_labels_prediction\n",
    "\n",
    "filename = 'submission_4_rfc_n500'\n",
    "submission.to_csv(f'submission/{filename}',index=False)"
   ]
  }
 ],
 "metadata": {
  "kernelspec": {
   "display_name": "DSR-Batch-38",
   "language": "python",
   "name": "dsr-b38"
  },
  "language_info": {
   "codemirror_mode": {
    "name": "ipython",
    "version": 3
   },
   "file_extension": ".py",
   "mimetype": "text/x-python",
   "name": "python",
   "nbconvert_exporter": "python",
   "pygments_lexer": "ipython3",
   "version": "3.12.0"
  }
 },
 "nbformat": 4,
 "nbformat_minor": 4
}
